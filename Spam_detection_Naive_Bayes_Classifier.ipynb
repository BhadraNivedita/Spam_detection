{
 "cells": [
  {
   "cell_type": "markdown",
   "metadata": {},
   "source": [
    "# Bernoulli Naive Bayes Classifier\n",
    "\n",
    "\n"
   ]
  },
  {
   "cell_type": "markdown",
   "metadata": {},
   "source": [
    "Naive Bayes classifier for multivariate Bernoulli models.This classifier is suitable for discrete data."
   ]
  },
  {
   "cell_type": "code",
   "execution_count": 1,
   "metadata": {},
   "outputs": [],
   "source": [
    "import pandas as pd"
   ]
  },
  {
   "cell_type": "code",
   "execution_count": 2,
   "metadata": {},
   "outputs": [],
   "source": [
    "def replace(x):\n",
    "    if (x >= 0):\n",
    "        x = 1\n",
    "    else:\n",
    "        x = 0\n",
    "    return x"
   ]
  },
  {
   "cell_type": "code",
   "execution_count": 3,
   "metadata": {},
   "outputs": [],
   "source": [
    "def create_index(variable):\n",
    "    variable = variable.upper()\n",
    "    sms[variable] = sms[\"v2\"].str.upper().str.find(variable)\n",
    "    sms[variable] = sms[variable].apply(lambda x: replace(x))\n",
    "    return"
   ]
  },
  {
   "cell_type": "code",
   "execution_count": 4,
   "metadata": {},
   "outputs": [],
   "source": [
    "def count_digits(x):   \n",
    "    return sum(c.isdigit() for c in x)"
   ]
  },
  {
   "cell_type": "code",
   "execution_count": 5,
   "metadata": {},
   "outputs": [],
   "source": [
    "sms = pd.read_csv(\"spam.csv\",encoding = \"ISO-8859-1\")\n"
   ]
  },
  {
   "cell_type": "code",
   "execution_count": 6,
   "metadata": {},
   "outputs": [],
   "source": [
    "create_index(\"FREE\")\n",
    "create_index(\"WINNER\")\n",
    "create_index(\"REMINDER\")\n",
    "create_index(\"CONTRACT\")\n",
    "create_index(\"MOBILE\")\n",
    "create_index(\"URGENT\")\n",
    "create_index(\"IMPORTANT\")\n",
    "create_index(\"PRIVATE\")\n",
    "create_index(\"CALL\")\n",
    "create_index(\"SEX\")\n",
    "create_index(\"GUARANTEED\")\n",
    "create_index(\"CONGRATS\")\n",
    "create_index(\"DATING\")\n",
    "create_index(\"CASH\")\n",
    "create_index(\"CUSTOMER\")\n",
    "create_index(\"SMS\")\n",
    "create_index(\"ACCOUNT\")\n",
    "create_index(\"HEY\")\n",
    "create_index(\"AWARDED\")\n",
    "create_index(\"WON\")\n",
    "create_index(\"CHOSEN\")\n",
    "create_index(\"WOULD\")\n",
    "create_index(\"WIND\")\n",
    "create_index(\"HORNY\")\n",
    "create_index(\"INVITING\")\n",
    "create_index(\"CHOSEN\")\n",
    "create_index(\"SHOPPING\")\n",
    "create_index(\"ENTITLED\")\n",
    "create_index(\"WANT\")\n",
    "create_index(\"ENTRY\")\n",
    "create_index(\"SECRET\")\n",
    "create_index(\"DISCOUNT\")\n",
    "create_index(\"MESSAGE\")\n",
    "create_index(\"IMPORTANT\")\n",
    "create_index(\"XXX\")\n",
    "create_index(\"GIRLS\")\n",
    "create_index(\"CONTACT\")"
   ]
  },
  {
   "cell_type": "code",
   "execution_count": 7,
   "metadata": {},
   "outputs": [],
   "source": [
    "sms[\"spam\"]     = sms[\"v1\"]==\"spam\"\n",
    "sms[\"spam\"]     = sms[\"spam\"].astype(int)\n",
    "sms[\"DIGITS\"]   = sms[\"v2\"].apply(lambda x: count_digits(x))\n",
    "sms[\"EXC_MARK\"] = sms[\"v2\"].str.upper().str.count(\"!\")\n"
   ]
  },
  {
   "cell_type": "code",
   "execution_count": 8,
   "metadata": {},
   "outputs": [],
   "source": [
    "data = sms[[\"FREE\",\"WINNER\",\"REMINDER\",\"CONTRACT\",\"MOBILE\",\"URGENT\",\"IMPORTANT\",\"PRIVATE\",\"CALL\",\"SEX\",\"GUARANTEED\",\n",
    "            \"CONGRATS\",\"DATING\",\"CASH\",\"CUSTOMER\",\"SMS\",\"ACCOUNT\",\"HEY\",\"AWARDED\",\"WON\",\"CHOSEN\",\"WOULD\",\n",
    "            \"WIND\",\"HORNY\",\"INVITING\",\"CHOSEN\",\"SHOPPING\",\"ENTITLED\",\"WANT\",\"ENTRY\",\"SECRET\",\"DISCOUNT\",\"MESSAGE\",\n",
    "            \"IMPORTANT\",\"XXX\",\"GIRLS\",\"CONTACT\",\"DIGITS\",\"EXC_MARK\"]].values.reshape(5572,39)"
   ]
  },
  {
   "cell_type": "code",
   "execution_count": 9,
   "metadata": {},
   "outputs": [],
   "source": [
    "import numpy as np\n",
    "from sklearn.naive_bayes import BernoulliNB\n",
    "from sklearn.model_selection import cross_val_score\n"
   ]
  },
  {
   "cell_type": "code",
   "execution_count": 10,
   "metadata": {},
   "outputs": [
    {
     "name": "stdout",
     "output_type": "stream",
     "text": [
      "Accuracy: 0.95 (+/- 0.01)\n"
     ]
    }
   ],
   "source": [
    "clf1 = BernoulliNB()\n",
    "clf1.fit(data,sms[\"spam\"].values)\n",
    "BernoulliNB(alpha=1.0, binarize=0.0, class_prior=None, fit_prior=True)\n",
    "sms[\"prediction\"] = clf1.predict(data)\n",
    "scores = cross_val_score(clf1, data, sms[\"spam\"].values, cv=5)\n",
    "print(\"Accuracy: %0.2f (+/- %0.2f)\" % (scores.mean(), scores.std() * 2))\n"
   ]
  },
  {
   "cell_type": "markdown",
   "metadata": {},
   "source": [
    "# Multinomial Naive Bayes Classifier"
   ]
  },
  {
   "cell_type": "markdown",
   "metadata": {},
   "source": [
    "The multinomial Naive Bayes classifier is suitable for classification with discrete features (e.g., word counts for text classification). The multinomial distribution normally requires integer feature counts. However, in practice, fractional counts such as tf-idf may also work.\n",
    "\n"
   ]
  },
  {
   "cell_type": "code",
   "execution_count": 11,
   "metadata": {},
   "outputs": [
    {
     "name": "stdout",
     "output_type": "stream",
     "text": [
      "Accuracy: 0.96 (+/- 0.02)\n"
     ]
    }
   ],
   "source": [
    "from sklearn.naive_bayes import MultinomialNB\n",
    "clf2 = MultinomialNB()\n",
    "clf2.fit(data,sms[\"spam\"].values)\n",
    "MultinomialNB(alpha=1.0, class_prior=None, fit_prior=True)\n",
    "sms[\"prediction\"] = clf2.predict(data)\n",
    "scores = cross_val_score(clf2, data, sms[\"spam\"].values, cv=15)\n",
    "print(\"Accuracy: %0.2f (+/- %0.2f)\" % (scores.mean(), scores.std() * 2))\n"
   ]
  },
  {
   "cell_type": "markdown",
   "metadata": {},
   "source": [
    "While MultinomialNB works with occurrence counts, BernoulliNB is designed for binary/boolean features.\n",
    "\n"
   ]
  },
  {
   "cell_type": "code",
   "execution_count": null,
   "metadata": {},
   "outputs": [],
   "source": []
  }
 ],
 "metadata": {
  "kernelspec": {
   "display_name": "Python 3",
   "language": "python",
   "name": "python3"
  },
  "language_info": {
   "codemirror_mode": {
    "name": "ipython",
    "version": 3
   },
   "file_extension": ".py",
   "mimetype": "text/x-python",
   "name": "python",
   "nbconvert_exporter": "python",
   "pygments_lexer": "ipython3",
   "version": "3.7.6"
  }
 },
 "nbformat": 4,
 "nbformat_minor": 4
}
